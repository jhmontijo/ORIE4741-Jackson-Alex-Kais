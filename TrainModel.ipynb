{
 "cells": [
  {
   "cell_type": "code",
   "execution_count": 35,
   "metadata": {},
   "outputs": [
    {
     "data": {
      "text/plain": [
       "82712×1 Array{Int64,2}:\n",
       " -1\n",
       " -1\n",
       " -1\n",
       " -1\n",
       " -1\n",
       " -1\n",
       " -1\n",
       " -1\n",
       " -1\n",
       " -1\n",
       " -1\n",
       " -1\n",
       " -1\n",
       "  ⋮\n",
       " -1\n",
       " -1\n",
       " -1\n",
       " -1\n",
       "  1\n",
       " -1\n",
       " -1\n",
       " -1\n",
       " -1\n",
       " -1\n",
       " -1\n",
       "  1"
      ]
     },
     "execution_count": 35,
     "metadata": {},
     "output_type": "execute_result"
    }
   ],
   "source": [
    "using CSV\n",
    "using Plots\n",
    "using DataFrames\n",
    "using Statistics\n",
    "using Random, LinearAlgebra, SparseArrays\n",
    "include(\"proxgrad.jl\")\n",
    "\n",
    "\n",
    "X = CSV.read(\"X.csv\")\n",
    "X = select!(X,Not(:Column1))\n",
    "n = nrow(X)\n",
    "X = convert(Matrix, X)\n",
    "\n",
    "Yclass_train = CSV.read(\"Yclass_train.csv\")\n",
    "Yclass_train = select!(Yclass_train,Not(:Column1))\n",
    "Yclass_train = convert(Matrix, Yclass_train)\n",
    "\n",
    "ybool = Int.(sign.(Yclass_train)) # form a boolean target\n",
    "ybool = reshape(ybool, 1)\n",
    "loss = 1/n*HingeLoss()\n",
    "λ = .1\n",
    "reg = λ*QuadReg()\n",
    "#w = proxgrad(loss, reg, X, ybool, maxiters=10) \n",
    "\n",
    "#(n - sum(sign.(X*w) .== ybool)) / n\n",
    "ybool"
   ]
  },
  {
   "cell_type": "code",
   "execution_count": 27,
   "metadata": {},
   "outputs": [
    {
     "data": {
      "text/plain": [
       "50-element Array{Float64,1}:\n",
       " -5.385634056969853  \n",
       "  6.648090116980303  \n",
       "  0.8068740596335412 \n",
       " -1.5195064392192563 \n",
       "  5.216880723409659  \n",
       " -6.023593940701897  \n",
       "  3.3982233613839927 \n",
       " -0.9121009804738791 \n",
       "  0.3651219364915964 \n",
       "  1.344722359511159  \n",
       "  4.841970150063742  \n",
       "  1.5010644299659528 \n",
       "  0.8167902921170364 \n",
       "  ⋮                  \n",
       " -6.326750793501784  \n",
       " -0.773993767195665  \n",
       " -0.736574137292652  \n",
       "  5.691217352567019  \n",
       "  2.3594283508015548 \n",
       " -2.487204434510467  \n",
       "  0.2628076129423721 \n",
       " -0.13544933936116765\n",
       " -0.11634691310888103\n",
       " -0.36904237864802236\n",
       "  4.526547086643624  \n",
       " -1.2374293081364325 "
      ]
     },
     "execution_count": 27,
     "metadata": {},
     "output_type": "execute_result"
    }
   ],
   "source": [
    "Random.seed!(0)\n",
    "n = 50\n",
    "d = 10\n",
    "X = randn(n,d)\n",
    "w♮ = randn(d)\n",
    "y = X*w♮ + .1*randn(n);\n",
    "\n",
    "y"
   ]
  },
  {
   "cell_type": "code",
   "execution_count": null,
   "metadata": {},
   "outputs": [],
   "source": [
    "ybool = Int.(sign.(Yclass_train)) # form a boolean target\n",
    "loss = 1/n*HingeLoss()\n",
    "λ = .1\n",
    "reg = λ*QuadReg()\n",
    "w = proxgrad(loss, reg, X, ybool, maxiters=10) \n",
    "\n",
    "\n",
    "(n - sum(sign.(X*w) .== ybool)) / n"
   ]
  }
 ],
 "metadata": {
  "kernelspec": {
   "display_name": "Julia 1.2.0",
   "language": "julia",
   "name": "julia-1.2"
  },
  "language_info": {
   "file_extension": ".jl",
   "mimetype": "application/julia",
   "name": "julia",
   "version": "1.2.0"
  }
 },
 "nbformat": 4,
 "nbformat_minor": 2
}
