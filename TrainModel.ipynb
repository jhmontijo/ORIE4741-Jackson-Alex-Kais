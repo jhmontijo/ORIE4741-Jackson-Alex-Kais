{
 "cells": [
  {
   "cell_type": "code",
   "execution_count": 24,
   "metadata": {},
   "outputs": [
    {
     "data": {
      "text/plain": [
       "82712×1 Array{Float64,2}:\n",
       " 0.08089489341524281\n",
       " 0.12531935127219612\n",
       " 0.11123454681862177\n",
       " 0.16343790691863855\n",
       " 0.20164158260500176\n",
       " 0.14413094903702092\n",
       " 0.14521866832225255\n",
       " 0.11127775422693631\n",
       " 0.16540534148087876\n",
       " 0.07817601344563524\n",
       " 0.0523403992573701 \n",
       " 0.12371813448699166\n",
       " 0.14623734791840642\n",
       " ⋮                  \n",
       " 0.1314285112596666 \n",
       " 0.09303941679024144\n",
       " 0.1094026652322347 \n",
       " 0.19567078147897116\n",
       " 0.17443459808212763\n",
       " 0.22890439135971163\n",
       " 0.13029381938120332\n",
       " 0.07467806783228485\n",
       " 0.09664170373097529\n",
       " 0.13938322302348866\n",
       " 0.153268208027384  \n",
       " 0.17987432247036045"
      ]
     },
     "execution_count": 24,
     "metadata": {},
     "output_type": "execute_result"
    }
   ],
   "source": [
    "using CSV\n",
    "using Plots\n",
    "using DataFrames\n",
    "using Statistics\n",
    "\n",
    "X = CSV.read(\"X.csv\")\n",
    "Yclass_train = CSV.read(\"Yclass_train.csv\")\n",
    "X = select!(X,Not(:Column1))\n",
    "Yclass_train = select!(Yclass_train,Not(:Column1))\n",
    "X = convert(Matrix, X)\n",
    "Yclass_train = convert(Matrix, Yclass_train)\n",
    "\n",
    "w = X\\Yclass_train\n",
    "X*w\n"
   ]
  }
 ],
 "metadata": {
  "kernelspec": {
   "display_name": "Julia 1.2.0",
   "language": "julia",
   "name": "julia-1.2"
  },
  "language_info": {
   "file_extension": ".jl",
   "mimetype": "application/julia",
   "name": "julia",
   "version": "1.2.0"
  }
 },
 "nbformat": 4,
 "nbformat_minor": 2
}
