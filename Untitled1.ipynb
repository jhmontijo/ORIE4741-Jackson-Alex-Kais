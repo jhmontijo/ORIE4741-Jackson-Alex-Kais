{
 "cells": [
  {
   "cell_type": "code",
   "execution_count": 1,
   "metadata": {
    "collapsed": true
   },
   "outputs": [],
   "source": [
    "using Random\n",
    "Random.seed!(13)\n",
    "\n",
    "using CSV\n",
    "using Plots\n",
    "using DataFrames\n",
    "using Statistics"
   ]
  },
  {
   "cell_type": "code",
   "execution_count": 5,
   "metadata": {
    "collapsed": true
   },
   "outputs": [
    {
     "name": "stdout",
     "output_type": "stream",
     "text": [
      "1\tColumn1\t\t\tInt64\n",
      "2\tFL_DATE\t\t\tDates.Date\n",
      "3\tOP_UNIQUE_CARRIER\t\t\tString\n",
      "4\tORIGIN\t\t\tString\n",
      "5\tDEST\t\t\tString\n",
      "6\tCRS_DEP_TIME\t\t\tFloat64\n",
      "7\tDEP_TIME\t\t\tFloat64\n",
      "8\tDEP_DELAY\t\t\tFloat64\n",
      "9\tDEP_DELAY_NEW\t\t\tFloat64\n",
      "10\tDEP_DEL15\t\t\tFloat64\n",
      "11\tDEP_DELAY_GROUP\t\t\tFloat64\n",
      "12\tDEP_TIME_BLK\t\t\tString\n",
      "13\tTAXI_OUT\t\t\tFloat64\n",
      "14\tWHEELS_OFF\t\t\tFloat64\n",
      "15\tWHEELS_ON\t\t\tFloat64\n",
      "16\tTAXI_IN\t\t\tFloat64\n",
      "17\tCRS_ARR_TIME\t\t\tFloat64\n",
      "18\tARR_TIME\t\t\tFloat64\n",
      "19\tARR_DELAY\t\t\tFloat64\n",
      "20\tARR_DELAY_NEW\t\t\tFloat64\n",
      "21\tARR_DEL15\t\t\tFloat64\n",
      "22\tARR_DELAY_GROUP\t\t\tFloat64\n",
      "23\tARR_TIME_BLK\t\t\tString\n",
      "24\tCANCELLED\t\t\tFloat64\n",
      "25\tCANCELLATION_CODE\t\t\tString\n",
      "26\tDIVERTED\t\t\tFloat64\n",
      "27\tCRS_ELAPSED_TIME\t\t\tFloat64\n",
      "28\tACTUAL_ELAPSED_TIME\t\t\tFloat64\n",
      "29\tAIR_TIME\t\t\tFloat64\n",
      "30\tDISTANCE\t\t\tFloat64\n",
      "31\tCARRIER_DELAY\t\t\tFloat64\n",
      "32\tWEATHER_DELAY\t\t\tFloat64\n",
      "33\tNAS_DELAY\t\t\tFloat64\n",
      "34\tSECURITY_DELAY\t\t\tFloat64\n",
      "35\tLATE_AIRCRAFT_DELAY\t\t\tFloat64\n",
      "36\tUnnamed: 34\t\t\tFloat64\n",
      "37\tSTATION_x\t\t\tInt64\n",
      "38\tAWND_x\t\t\tFloat64\n",
      "39\tPGTM_x\t\t\tFloat64\n",
      "40\tPRCP_x\t\t\tFloat64\n",
      "41\tSNOW_x\t\t\tFloat64\n",
      "42\tSNWD_x\t\t\tFloat64\n",
      "43\tTAVG_x\t\t\tFloat64\n",
      "44\tTMAX_x\t\t\tFloat64\n",
      "45\tTMIN_x\t\t\tFloat64\n",
      "46\tWDF2_x\t\t\tFloat64\n",
      "47\tWDF5_x\t\t\tFloat64\n",
      "48\tWSF2_x\t\t\tFloat64\n",
      "49\tWSF5_x\t\t\tFloat64\n",
      "50\tWT01_x\t\t\tFloat64\n",
      "51\tWT02_x\t\t\tFloat64\n",
      "52\tWT03_x\t\t\tFloat64\n",
      "53\tWT04_x\t\t\tFloat64\n",
      "54\tWT05_x\t\t\tFloat64\n",
      "55\tWT06_x\t\t\tFloat64\n",
      "56\tWT07_x\t\t\tFloat64\n",
      "57\tWT08_x\t\t\tFloat64\n",
      "58\tWT09_x\t\t\tFloat64\n",
      "59\tSTATION_y\t\t\tInt64\n",
      "60\tAWND_y\t\t\tFloat64\n",
      "61\tPGTM_y\t\t\tFloat64\n",
      "62\tPRCP_y\t\t\tFloat64\n",
      "63\tSNOW_y\t\t\tFloat64\n",
      "64\tSNWD_y\t\t\tFloat64\n",
      "65\tTAVG_y\t\t\tFloat64\n",
      "66\tTMAX_y\t\t\tFloat64\n",
      "67\tTMIN_y\t\t\tFloat64\n",
      "68\tWDF2_y\t\t\tFloat64\n",
      "69\tWDF5_y\t\t\tFloat64\n",
      "70\tWSF2_y\t\t\tFloat64\n",
      "71\tWSF5_y\t\t\tFloat64\n",
      "72\tWT01_y\t\t\tFloat64\n",
      "73\tWT02_y\t\t\tFloat64\n",
      "74\tWT03_y\t\t\tFloat64\n",
      "75\tWT04_y\t\t\tFloat64\n",
      "76\tWT05_y\t\t\tFloat64\n",
      "77\tWT06_y\t\t\tFloat64\n",
      "78\tWT07_y\t\t\tFloat64\n",
      "79\tWT08_y\t\t\tFloat64\n",
      "80\tWT09_y\t\t\tFloat64\n"
     ]
    },
    {
     "ename": "BoundsError",
     "evalue": "BoundsError: attempt to access 80-element Array{Symbol,1} at index [81]",
     "output_type": "error",
     "traceback": [
      "BoundsError: attempt to access 80-element Array{Symbol,1} at index [81]",
      "",
      "Stacktrace:",
      " [1] getindex(::Array{Symbol,1}, ::Int64) at .\\array.jl:728",
      " [2] top-level scope at .\\In[5]:4"
     ]
    }
   ],
   "source": [
    "df = CSV.read(\"TrainingData.csv\")\n",
    "feature_names = names(df)\n",
    "for i in 1:96\n",
    "    println(string(i), \"\\t\", string(feature_names[i]), \"\\t\\t\\t\", string(eltype(df[!, i])))\n",
    "end"
   ]
  },
  {
   "cell_type": "code",
   "execution_count": 21,
   "metadata": {
    "collapsed": false
   },
   "outputs": [
    {
     "data": {
      "text/plain": [
       "82712-element Array{Float64,1}:\n",
       " 0.0\n",
       " 0.0\n",
       " 0.0\n",
       " 0.0\n",
       " 0.0\n",
       " 0.0\n",
       " 0.0\n",
       " 0.0\n",
       " 0.0\n",
       " 0.0\n",
       " 0.0\n",
       " 0.0\n",
       " 0.0\n",
       " ⋮  \n",
       " 0.0\n",
       " 0.0\n",
       " 0.0\n",
       " 0.0\n",
       " 0.0\n",
       " 0.0\n",
       " 0.0\n",
       " 0.0\n",
       " 0.0\n",
       " 0.0\n",
       " 0.0\n",
       " 0.0"
      ]
     },
     "execution_count": 21,
     "metadata": {},
     "output_type": "execute_result"
    }
   ],
   "source": [
    "sum(df[:, :TAVG_x])\n",
    "df[:, :TAVG_x]"
   ]
  },
  {
   "cell_type": "code",
   "execution_count": null,
   "metadata": {
    "collapsed": true
   },
   "outputs": [],
   "source": []
  }
 ],
 "metadata": {
  "kernelspec": {
   "display_name": "Julia 1.2.0",
   "language": "julia",
   "name": "julia-1.2"
  },
  "language_info": {
   "file_extension": ".jl",
   "mimetype": "application/julia",
   "name": "julia",
   "version": "1.2.0"
  }
 },
 "nbformat": 4,
 "nbformat_minor": 0
}
