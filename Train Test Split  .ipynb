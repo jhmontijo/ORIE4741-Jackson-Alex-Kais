{
 "cells": [
  {
   "cell_type": "code",
   "execution_count": null,
   "metadata": {},
   "outputs": [],
   "source": [
    "\"\"\"\n",
    "Creates a train test split using 20% of the data from each month to train and 5% of the data for testing from\n",
    "2018. This is the same ratio as an 80/20 split. We sampled from every month as we expect there to be a seasonal\n",
    "component to our model. Full datasets are to large to store on git, so they are on my local machine, and the \n",
    "splits are created, stored as a pickle file, and pushed to git\n",
    "\"\"\"\n",
    "\n",
    "\n",
    "import os \n",
    "import pandas as pd\n",
    "\n",
    "train_set = pd.DataFrame()\n",
    "test_set = pd.DataFrame()\n",
    "train_percentage = .2\n",
    "test_percentage = .05\n",
    "for filename in os.listdir(\"./data\"):\n",
    "    df = pd.read_csv(\"./data/\" + filename)\n",
    "    df_train = df.sample(n=int(df.shape[0]*train_percentage), random_state=1)\n",
    "    df_test = df.sample(n=int(df.shape[0]*test_percentage), random_state=1)\n",
    "    train_set.append(df)\n",
    "    test_set.append(df)\n",
    "train_set.to_pickle('./train.pkl')\n",
    "test_set.to_pickle('./test.pkl')"
   ]
  }
 ],
 "metadata": {
  "kernelspec": {
   "display_name": "Python 3",
   "language": "python",
   "name": "python3"
  },
  "language_info": {
   "codemirror_mode": {
    "name": "ipython",
    "version": 3
   },
   "file_extension": ".py",
   "mimetype": "text/x-python",
   "name": "python",
   "nbconvert_exporter": "python",
   "pygments_lexer": "ipython3",
   "version": "3.6.8"
  }
 },
 "nbformat": 4,
 "nbformat_minor": 2
}
