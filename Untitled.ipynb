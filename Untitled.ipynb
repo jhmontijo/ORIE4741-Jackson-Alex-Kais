{
 "cells": [
  {
   "cell_type": "code",
   "execution_count": 21,
   "metadata": {},
   "outputs": [],
   "source": [
    "import pandas as pd\n",
    "import numpy as np\n",
    "\n",
    "\n",
    "df_air = pd.read_pickle('train.pkl')\n",
    "df_weath = pd.read_pickle('Weather.pkl')\n",
    "df_weath = df_weath.rename(columns={\"NAME\":\"ORIGIN\", \"DATE\":\"FL_DATE\"})\n",
    "df = df_air.merge(df_weath, on=['ORIGIN','FL_DATE'], how='outer')\n",
    "df_weath = df_weath.rename(columns={\"ORIGIN\":\"DEST\", \"DATE\":\"FL_DATE\"})\n",
    "df = df.merge(df_weath, on=['DEST','FL_DATE'], how='outer')\n",
    "df = df.fillna(0)\n",
    "df = df[df['ORIGIN'] != 0]\n",
    "df = df[df['DEST'] != 0]\n",
    "df.to_csv('TrainingData.csv')"
   ]
  }
 ],
 "metadata": {
  "kernelspec": {
   "display_name": "Python 3",
   "language": "python",
   "name": "python3"
  },
  "language_info": {
   "codemirror_mode": {
    "name": "ipython",
    "version": 3
   },
   "file_extension": ".py",
   "mimetype": "text/x-python",
   "name": "python",
   "nbconvert_exporter": "python",
   "pygments_lexer": "ipython3",
   "version": "3.6.8"
  }
 },
 "nbformat": 4,
 "nbformat_minor": 2
}
