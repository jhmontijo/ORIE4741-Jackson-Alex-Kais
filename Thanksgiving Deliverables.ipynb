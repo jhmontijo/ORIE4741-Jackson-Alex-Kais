{
 "cells": [
  {
   "cell_type": "markdown",
   "metadata": {},
   "source": [
    "# Thanksgiving Deliverables\n",
    "\n",
    "- 3 Techniques from Class\n",
    "    - Random Forest\n",
    "    - Linear Regression using Proximal Gradient Descent\n",
    "    - Hinge Loss, Quadratic and Logistic Regression\n",
    "- Model to predict time\n",
    "    - Remove 0's and write quadratic model\n",
    "    - Try regression, then random forest\n",
    "- Hoeffing Inequality & Bootstrapping\n",
    "    - Calculate and discuss\n",
    "- Model Validation\n",
    "    - Probability Scoring\n",
    "    - Compare 3ish Models against each other"
   ]
  },
  {
   "cell_type": "markdown",
   "metadata": {},
   "source": [
    "### Alex\n",
    "- Time Prediction Model\n",
    "- Remove 0's, try regression, if that doesn't work random forest"
   ]
  },
  {
   "cell_type": "code",
   "execution_count": null,
   "metadata": {},
   "outputs": [],
   "source": []
  },
  {
   "cell_type": "markdown",
   "metadata": {},
   "source": [
    "### Jackson\n",
    "- Random Forest\n",
    "- Pull random sample of data from 2017 and test model"
   ]
  },
  {
   "cell_type": "code",
   "execution_count": null,
   "metadata": {},
   "outputs": [],
   "source": []
  },
  {
   "cell_type": "markdown",
   "metadata": {},
   "source": [
    "### Kais\n",
    "- Model Validation\n",
    "- Gradient Boosting Machine\n",
    "- Probability Scoring & Comparison\n",
    "- Hoeffing Inequality"
   ]
  },
  {
   "cell_type": "code",
   "execution_count": null,
   "metadata": {},
   "outputs": [],
   "source": []
  }
 ],
 "metadata": {
  "kernelspec": {
   "display_name": "Julia 1.2.0",
   "language": "julia",
   "name": "julia-1.2"
  },
  "language_info": {
   "file_extension": ".jl",
   "mimetype": "application/julia",
   "name": "julia",
   "version": "1.2.0"
  }
 },
 "nbformat": 4,
 "nbformat_minor": 2
}
