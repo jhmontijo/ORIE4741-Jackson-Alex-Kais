{
 "cells": [
  {
   "cell_type": "code",
   "execution_count": 84,
   "metadata": {},
   "outputs": [],
   "source": [
    "import pandas as pd\n",
    "\n",
    "\n",
    "\"\"\"\n",
    "Creates a train test split using 20% of the data from each month to train and 5% of the data for testing from\n",
    "2018. This is the same ratio as an 80/20 split. We sampled from every month as we expect there to be a seasonal\n",
    "component to our model. Full datasets are to large to store on git, so they are on my local machine, and the \n",
    "splits are created, stored as a pickle file, and pushed to git\n",
    "\"\"\"\n",
    "\n",
    "train_set, test_set = pd.DataFrame(), pd.DataFrame()\n",
    "airports = ['LAX','JFK', 'ATL', 'DFW', 'DEN', 'SFO','SEA','LAS','MCO']\n",
    "files = ['april.csv', 'august.csv', 'dec.csv', 'feb.csv', 'jan.csv', 'july.csv', 'june.csv', 'march.csv',\n",
    "         'may.csv',  'nov.csv',  'oct.csv', 'sept.csv']\n",
    "c = 0\n",
    "for filename in files:\n",
    "    df = pd.read_csv(\"/home/jackson/data/\" + filename)\n",
    "    df = df[(df['ORIGIN'].isin(airports)) & (df['DEST'].isin(airports))]\n",
    "    if(train_set.empty):\n",
    "        train_set = df.sample(frac=0.20, random_state=7)\n",
    "        test_set = df.sample(frac=0.05, random_state=7)\n",
    "    else:\n",
    "        train_set = pd.concat([train_set,df.sample(frac=0.20, random_state=7)])\n",
    "        test_set = pd.concat([test_set, df.sample(frac=0.05, random_state=7)])\n",
    "\n",
    "#train_set.to_pickle('train.csv')\n",
    "#test_set.to_pickle('test.csv')"
   ]
  },
  {
   "cell_type": "code",
   "execution_count": 109,
   "metadata": {},
   "outputs": [],
   "source": [
    "\"\"\"\n",
    "Reads train pkl created above, and joins with the weather data on data and origin/destination.\n",
    "Saves combined data to data.csv\n",
    "\"\"\"\n",
    "import pandas as pd\n",
    "import numpy as np\n",
    "\n",
    "def merge(df_air, name):\n",
    "\n",
    "    df_weath = pd.read_pickle('Weather.pkl')\n",
    "    df_weath = df_weath.rename(columns={\"NAME\":\"ORIGIN\", \"DATE\":\"FL_DATE\"})\n",
    "    df_weath['FL_DATE'] = pd.to_datetime(df_weath['FL_DATE']).dt.strftime('%Y-%m-%d')\n",
    "    df = df_air.merge(df_weath, on=['ORIGIN','FL_DATE'], how='outer')\n",
    "    df_weath = df_weath.rename(columns={\"ORIGIN\":\"DEST\", \"DATE\":\"FL_DATE\"})\n",
    "    df = df.merge(df_weath, on=['DEST','FL_DATE'], how='outer')\n",
    "    df = df.fillna(0)\n",
    "    df = df[df['ORIGIN'] != 0]\n",
    "    df = df[df['DEST'] != 0]\n",
    "    df.to_csv(name)\n",
    "    return df\n",
    "\n",
    "X = merge(train_set,'train.csv')\n",
    "X_test = merge(test_set, 'test.csv')"
   ]
  },
  {
   "cell_type": "code",
   "execution_count": 110,
   "metadata": {},
   "outputs": [],
   "source": [
    "\"\"\"\n",
    "Create X vector, with only the data from df that is already real value or boolean encoded \n",
    "\"\"\"\n",
    "def clean(df):\n",
    "    remove = []\n",
    "    remove.append(df.columns[0])\n",
    "    for rem in df.columns[6:37]:\n",
    "        remove.append(rem)\n",
    "    remove.extend([\"WDF2_x\", \"WDF5_x\", \"WSF2_x\", \"WSF5_x\", \"WDF2_y\", \"WDF5_y\", \"WSF2_y\", \"WSF5_y\", \"STATION_y\",\n",
    "                   \"FL_DATE\", \"OP_UNIQUE_CARRIER\", \"ORIGIN\", \"DEST\", \"CRS_DEP_TIME\"])\n",
    "    return df.drop(remove, axis = 1)\n",
    "\n",
    "X = clean(X)\n",
    "X_test = clean(X_test)"
   ]
  },
  {
   "cell_type": "code",
   "execution_count": 111,
   "metadata": {},
   "outputs": [],
   "source": [
    "\"\"\"\n",
    "Creates one-hot encodings for Airline, Origin, and Destination and concatenates the features to X\n",
    "\"\"\"\n",
    "def onehot(df, column):\n",
    "    title = df[column].unique()\n",
    "    header = [column + s for s in title]\n",
    "    onehot = []\n",
    "    for i in df[column]:\n",
    "        result = []\n",
    "        for j in title:\n",
    "            if i == j:\n",
    "                result.append(1)\n",
    "            else:\n",
    "                result.append(0)\n",
    "        onehot.append(result)\n",
    "    return pd.DataFrame(onehot, columns = header)\n",
    "\n",
    "X = pd.concat([X, onehot(train_set, \"OP_UNIQUE_CARRIER\"), onehot(train_set, \"ORIGIN\"), onehot(train_set, \"DEST\")],\n",
    "              axis = 1)\n",
    "X_test = pd.concat([X_test, onehot(test_set, \"OP_UNIQUE_CARRIER\"), onehot(test_set, \"ORIGIN\"),\n",
    "                    onehot(test_set,\"DEST\")], axis = 1)"
   ]
  },
  {
   "cell_type": "code",
   "execution_count": 112,
   "metadata": {},
   "outputs": [],
   "source": [
    "def polynomial(df, feature, max_order):\n",
    "    current_order = 2\n",
    "    transformed, names = [], []\n",
    "    while current_order <= max_order:\n",
    "        transformed.append(np.power(df[feature],current_order).values.flatten())\n",
    "        names.append(feature + \"^\" + str(current_order))\n",
    "        current_order += 1\n",
    "    return pd.DataFrame(transformed, index=names).T\n",
    "\n",
    "X = pd.concat([polynomial(X,'DEP_TIME',3), X],axis=1)\n",
    "X_test = pd.concat([polynomial(X_test,'DEP_TIME',3), X_test],axis=1)\n",
    "X['OFFSET'] = [1] * len(X.index)\n",
    "X_test['OFFSET'] = [1] *len(X_test.index)\n",
    "X.to_csv('X.csv')\n",
    "X_test.to_csv('X_test.csv')"
   ]
  },
  {
   "cell_type": "code",
   "execution_count": 134,
   "metadata": {},
   "outputs": [],
   "source": [
    "\"\"\"\n",
    "Build Y classification vectors.\n",
    "\"\"\"\n",
    "vals = []\n",
    "for index, row in train_set.iterrows():\n",
    "    if (row[\"WEATHER_DELAY\"] > 0):\n",
    "        vals.append(1)\n",
    "    elif(row[\"NAS_DELAY\"]>0):\n",
    "        vals.append(1) \n",
    "    else:\n",
    "        vals.append(-1)\n",
    "Yclass_train = pd.DataFrame(vals)\n",
    "\n",
    "\n",
    "vals = []\n",
    "for index, row in test_set.iterrows():\n",
    "    if (row[\"WEATHER_DELAY\"] > 0):\n",
    "        vals.append(1)\n",
    "    elif(row[\"NAS_DELAY\"]>0):\n",
    "        vals.append(1)\n",
    "    else:\n",
    "        vals.append(-1)\n",
    "Yclass_test = pd.DataFrame(vals)\n",
    "\n",
    "Yclass_train.to_csv(\"Yclass_train.csv\")\n",
    "Yclass_test.to_csv(\"Yclass_test.csv\")"
   ]
  },
  {
   "cell_type": "code",
   "execution_count": 148,
   "metadata": {
    "scrolled": true
   },
   "outputs": [
    {
     "name": "stdout",
     "output_type": "stream",
     "text": [
      "[-1 -1 -1 ... -1 -1  1]\n",
      "[8.48337105e+10 1.44204255e+14 5.48080440e+07 3.05860000e+06\n",
      " 3.39958500e+03 7.31000000e+02 1.16065000e+03 2.58141800e+06\n",
      " 2.95342550e+06 2.21473950e+06 1.25230000e+04 1.89450000e+03\n",
      " 4.02450000e+03 1.20500000e+02 8.30000000e+01 1.62500000e+02\n",
      " 8.70000000e+01 5.87400000e+03 2.60000000e+01 3.67967140e+05\n",
      " 3.09834950e+06 3.40595500e+03 6.89050000e+02 1.19520000e+03\n",
      " 2.58335800e+06 2.95653950e+06 2.21663400e+06 1.24995000e+04\n",
      " 1.88600000e+03 4.03550000e+03 1.24500000e+02 9.60000000e+01\n",
      " 1.60500000e+02 1.02500000e+02 5.95300000e+03 2.70000000e+01\n",
      " 5.41400000e+03 5.16200000e+03 1.21500000e+03 2.38500000e+03\n",
      " 1.03335000e+04 5.42550000e+03 7.54950000e+03 1.68150000e+03\n",
      " 1.20900000e+03 8.30000000e+01 9.65000000e+01 8.01500000e+02\n",
      " 4.35500000e+03 7.38350000e+03 2.89550000e+03 5.56050000e+03\n",
      " 3.95250000e+03 4.28400000e+03 4.31950000e+03 4.77550000e+03\n",
      " 3.83000000e+03 4.36050000e+03 7.46950000e+03 3.89750000e+03\n",
      " 2.92250000e+03 4.75850000e+03 4.26350000e+03 4.27950000e+03\n",
      " 5.50150000e+03 3.90300000e+03 4.13560000e+04]\n"
     ]
    },
    {
     "ename": "KeyboardInterrupt",
     "evalue": "",
     "output_type": "error",
     "traceback": [
      "\u001b[0;31m---------------------------------------------------------------------------\u001b[0m",
      "\u001b[0;31mKeyboardInterrupt\u001b[0m                         Traceback (most recent call last)",
      "\u001b[0;32m<ipython-input-148-a3507b7bb2fb>\u001b[0m in \u001b[0;36m<module>\u001b[0;34m\u001b[0m\n\u001b[1;32m     16\u001b[0m     \u001b[0;32mreturn\u001b[0m \u001b[0mw\u001b[0m\u001b[0;34m\u001b[0m\u001b[0;34m\u001b[0m\u001b[0m\n\u001b[1;32m     17\u001b[0m \u001b[0;34m\u001b[0m\u001b[0m\n\u001b[0;32m---> 18\u001b[0;31m \u001b[0mperceptron\u001b[0m\u001b[0;34m(\u001b[0m\u001b[0mX\u001b[0m\u001b[0;34m,\u001b[0m\u001b[0mYclass_train\u001b[0m\u001b[0;34m,\u001b[0m\u001b[0;36m100\u001b[0m\u001b[0;34m)\u001b[0m\u001b[0;34m\u001b[0m\u001b[0;34m\u001b[0m\u001b[0m\n\u001b[0m",
      "\u001b[0;32m<ipython-input-148-a3507b7bb2fb>\u001b[0m in \u001b[0;36mperceptron\u001b[0;34m(X, Y, max_epochs)\u001b[0m\n\u001b[1;32m     11\u001b[0m             \u001b[0;32mif\u001b[0m\u001b[0;34m(\u001b[0m\u001b[0mm\u001b[0m\u001b[0;34m*\u001b[0m\u001b[0mY\u001b[0m\u001b[0;34m[\u001b[0m\u001b[0mc\u001b[0m\u001b[0;34m]\u001b[0m\u001b[0;34m<\u001b[0m\u001b[0;36m0\u001b[0m\u001b[0;34m)\u001b[0m\u001b[0;34m:\u001b[0m\u001b[0;34m\u001b[0m\u001b[0;34m\u001b[0m\u001b[0m\n\u001b[1;32m     12\u001b[0m                 \u001b[0;32mfor\u001b[0m \u001b[0mwi\u001b[0m \u001b[0;32min\u001b[0m \u001b[0mw\u001b[0m\u001b[0;34m:\u001b[0m\u001b[0;34m\u001b[0m\u001b[0;34m\u001b[0m\u001b[0m\n\u001b[0;32m---> 13\u001b[0;31m                     \u001b[0mwi\u001b[0m \u001b[0;34m+=\u001b[0m \u001b[0mnp\u001b[0m\u001b[0;34m.\u001b[0m\u001b[0mdot\u001b[0m\u001b[0;34m(\u001b[0m\u001b[0mY\u001b[0m\u001b[0;34m,\u001b[0m\u001b[0mX\u001b[0m\u001b[0;34m)\u001b[0m\u001b[0;34m[\u001b[0m\u001b[0mw\u001b[0m\u001b[0;34m.\u001b[0m\u001b[0mindex\u001b[0m\u001b[0;34m(\u001b[0m\u001b[0mwi\u001b[0m\u001b[0;34m)\u001b[0m\u001b[0;34m]\u001b[0m\u001b[0;34m\u001b[0m\u001b[0;34m\u001b[0m\u001b[0m\n\u001b[0m\u001b[1;32m     14\u001b[0m             \u001b[0mc\u001b[0m \u001b[0;34m+=\u001b[0m\u001b[0;36m1\u001b[0m\u001b[0;34m\u001b[0m\u001b[0;34m\u001b[0m\u001b[0m\n\u001b[1;32m     15\u001b[0m         \u001b[0mepochs\u001b[0m \u001b[0;34m+=\u001b[0m \u001b[0;36m1\u001b[0m\u001b[0;34m\u001b[0m\u001b[0;34m\u001b[0m\u001b[0m\n",
      "\u001b[0;32m<__array_function__ internals>\u001b[0m in \u001b[0;36mdot\u001b[0;34m(*args, **kwargs)\u001b[0m\n",
      "\u001b[0;32m~/.local/lib/python3.6/site-packages/pandas/core/generic.py\u001b[0m in \u001b[0;36m__array__\u001b[0;34m(self, dtype)\u001b[0m\n\u001b[1;32m   1993\u001b[0m \u001b[0;34m\u001b[0m\u001b[0m\n\u001b[1;32m   1994\u001b[0m     \u001b[0;32mdef\u001b[0m \u001b[0m__array__\u001b[0m\u001b[0;34m(\u001b[0m\u001b[0mself\u001b[0m\u001b[0;34m,\u001b[0m \u001b[0mdtype\u001b[0m\u001b[0;34m=\u001b[0m\u001b[0;32mNone\u001b[0m\u001b[0;34m)\u001b[0m\u001b[0;34m:\u001b[0m\u001b[0;34m\u001b[0m\u001b[0;34m\u001b[0m\u001b[0m\n\u001b[0;32m-> 1995\u001b[0;31m         \u001b[0;32mreturn\u001b[0m \u001b[0mcom\u001b[0m\u001b[0;34m.\u001b[0m\u001b[0mvalues_from_object\u001b[0m\u001b[0;34m(\u001b[0m\u001b[0mself\u001b[0m\u001b[0;34m)\u001b[0m\u001b[0;34m\u001b[0m\u001b[0;34m\u001b[0m\u001b[0m\n\u001b[0m\u001b[1;32m   1996\u001b[0m \u001b[0;34m\u001b[0m\u001b[0m\n\u001b[1;32m   1997\u001b[0m     \u001b[0;32mdef\u001b[0m \u001b[0m__array_wrap__\u001b[0m\u001b[0;34m(\u001b[0m\u001b[0mself\u001b[0m\u001b[0;34m,\u001b[0m \u001b[0mresult\u001b[0m\u001b[0;34m,\u001b[0m \u001b[0mcontext\u001b[0m\u001b[0;34m=\u001b[0m\u001b[0;32mNone\u001b[0m\u001b[0;34m)\u001b[0m\u001b[0;34m:\u001b[0m\u001b[0;34m\u001b[0m\u001b[0;34m\u001b[0m\u001b[0m\n",
      "\u001b[0;32mpandas/_libs/lib.pyx\u001b[0m in \u001b[0;36mpandas._libs.lib.values_from_object\u001b[0;34m()\u001b[0m\n",
      "\u001b[0;32m~/.local/lib/python3.6/site-packages/pandas/core/generic.py\u001b[0m in \u001b[0;36mvalues\u001b[0;34m(self)\u001b[0m\n\u001b[1;32m   5441\u001b[0m         \"\"\"\n\u001b[1;32m   5442\u001b[0m         \u001b[0mself\u001b[0m\u001b[0;34m.\u001b[0m\u001b[0m_consolidate_inplace\u001b[0m\u001b[0;34m(\u001b[0m\u001b[0;34m)\u001b[0m\u001b[0;34m\u001b[0m\u001b[0;34m\u001b[0m\u001b[0m\n\u001b[0;32m-> 5443\u001b[0;31m         \u001b[0;32mreturn\u001b[0m \u001b[0mself\u001b[0m\u001b[0;34m.\u001b[0m\u001b[0m_data\u001b[0m\u001b[0;34m.\u001b[0m\u001b[0mas_array\u001b[0m\u001b[0;34m(\u001b[0m\u001b[0mtranspose\u001b[0m\u001b[0;34m=\u001b[0m\u001b[0mself\u001b[0m\u001b[0;34m.\u001b[0m\u001b[0m_AXIS_REVERSED\u001b[0m\u001b[0;34m)\u001b[0m\u001b[0;34m\u001b[0m\u001b[0;34m\u001b[0m\u001b[0m\n\u001b[0m\u001b[1;32m   5444\u001b[0m \u001b[0;34m\u001b[0m\u001b[0m\n\u001b[1;32m   5445\u001b[0m     \u001b[0;34m@\u001b[0m\u001b[0mproperty\u001b[0m\u001b[0;34m\u001b[0m\u001b[0;34m\u001b[0m\u001b[0m\n",
      "\u001b[0;32m~/.local/lib/python3.6/site-packages/pandas/core/internals/managers.py\u001b[0m in \u001b[0;36mas_array\u001b[0;34m(self, transpose, items)\u001b[0m\n\u001b[1;32m    820\u001b[0m             \u001b[0marr\u001b[0m \u001b[0;34m=\u001b[0m \u001b[0mnp\u001b[0m\u001b[0;34m.\u001b[0m\u001b[0masarray\u001b[0m\u001b[0;34m(\u001b[0m\u001b[0mmgr\u001b[0m\u001b[0;34m.\u001b[0m\u001b[0mblocks\u001b[0m\u001b[0;34m[\u001b[0m\u001b[0;36m0\u001b[0m\u001b[0;34m]\u001b[0m\u001b[0;34m.\u001b[0m\u001b[0mget_values\u001b[0m\u001b[0;34m(\u001b[0m\u001b[0;34m)\u001b[0m\u001b[0;34m)\u001b[0m\u001b[0;34m\u001b[0m\u001b[0;34m\u001b[0m\u001b[0m\n\u001b[1;32m    821\u001b[0m         \u001b[0;32melse\u001b[0m\u001b[0;34m:\u001b[0m\u001b[0;34m\u001b[0m\u001b[0;34m\u001b[0m\u001b[0m\n\u001b[0;32m--> 822\u001b[0;31m             \u001b[0marr\u001b[0m \u001b[0;34m=\u001b[0m \u001b[0mmgr\u001b[0m\u001b[0;34m.\u001b[0m\u001b[0m_interleave\u001b[0m\u001b[0;34m(\u001b[0m\u001b[0;34m)\u001b[0m\u001b[0;34m\u001b[0m\u001b[0;34m\u001b[0m\u001b[0m\n\u001b[0m\u001b[1;32m    823\u001b[0m \u001b[0;34m\u001b[0m\u001b[0m\n\u001b[1;32m    824\u001b[0m         \u001b[0;32mreturn\u001b[0m \u001b[0marr\u001b[0m\u001b[0;34m.\u001b[0m\u001b[0mtranspose\u001b[0m\u001b[0;34m(\u001b[0m\u001b[0;34m)\u001b[0m \u001b[0;32mif\u001b[0m \u001b[0mtranspose\u001b[0m \u001b[0;32melse\u001b[0m \u001b[0marr\u001b[0m\u001b[0;34m\u001b[0m\u001b[0;34m\u001b[0m\u001b[0m\n",
      "\u001b[0;32m~/.local/lib/python3.6/site-packages/pandas/core/internals/managers.py\u001b[0m in \u001b[0;36m_interleave\u001b[0;34m(self)\u001b[0m\n\u001b[1;32m    844\u001b[0m         \u001b[0;32mfor\u001b[0m \u001b[0mblk\u001b[0m \u001b[0;32min\u001b[0m \u001b[0mself\u001b[0m\u001b[0;34m.\u001b[0m\u001b[0mblocks\u001b[0m\u001b[0;34m:\u001b[0m\u001b[0;34m\u001b[0m\u001b[0;34m\u001b[0m\u001b[0m\n\u001b[1;32m    845\u001b[0m             \u001b[0mrl\u001b[0m \u001b[0;34m=\u001b[0m \u001b[0mblk\u001b[0m\u001b[0;34m.\u001b[0m\u001b[0mmgr_locs\u001b[0m\u001b[0;34m\u001b[0m\u001b[0;34m\u001b[0m\u001b[0m\n\u001b[0;32m--> 846\u001b[0;31m             \u001b[0mresult\u001b[0m\u001b[0;34m[\u001b[0m\u001b[0mrl\u001b[0m\u001b[0;34m.\u001b[0m\u001b[0mindexer\u001b[0m\u001b[0;34m]\u001b[0m \u001b[0;34m=\u001b[0m \u001b[0mblk\u001b[0m\u001b[0;34m.\u001b[0m\u001b[0mget_values\u001b[0m\u001b[0;34m(\u001b[0m\u001b[0mdtype\u001b[0m\u001b[0;34m)\u001b[0m\u001b[0;34m\u001b[0m\u001b[0;34m\u001b[0m\u001b[0m\n\u001b[0m\u001b[1;32m    847\u001b[0m             \u001b[0mitemmask\u001b[0m\u001b[0;34m[\u001b[0m\u001b[0mrl\u001b[0m\u001b[0;34m.\u001b[0m\u001b[0mindexer\u001b[0m\u001b[0;34m]\u001b[0m \u001b[0;34m=\u001b[0m \u001b[0;36m1\u001b[0m\u001b[0;34m\u001b[0m\u001b[0;34m\u001b[0m\u001b[0m\n\u001b[1;32m    848\u001b[0m \u001b[0;34m\u001b[0m\u001b[0m\n",
      "\u001b[0;31mKeyboardInterrupt\u001b[0m: "
     ]
    }
   ],
   "source": [
    "def perceptron(X,Y,max_epochs):\n",
    "    w = [0.5] * len(Y.index)\n",
    "    Y = Y.values.flatten()\n",
    "    epochs = 0\n",
    "    while(epochs<max_epochs):\n",
    "        margin = np.dot(w,X)\n",
    "        print(margin)\n",
    "        c=1\n",
    "        for m in margin:\n",
    "            if(m*Y[c]<0):\n",
    "                for wi in w:\n",
    "                    wi += np.dot(Y,X)[w.index(wi)]\n",
    "            c +=1\n",
    "        epochs += 1\n",
    "    return w\n",
    "                \n",
    "perceptron(X,Yclass_train,100)"
   ]
  },
  {
   "cell_type": "markdown",
   "metadata": {},
   "source": [
    "Methodology: First we must create a model to classify our data into two groups, one for weather delay and one for no weather delay. A later extension of this would be to do a multi-class classification: Severe Weather Delay, NAS Weather Delay, and No Weather Delay. Once we have classified our data, we must then use a regression model to predict the expected time of the dealay.\n",
    "\n",
    "Building Y Vector: The data we have gives us time of delay due to \"Severe Weather\" and time of delay due to \"National Air System\". Of these NAS delays, we know 55% of them are due to weather. To figure out, which 55% of these delays are the ones due to weather, we must run an unspervised clustering method on the weather features of the data. Once we have our clusters, we select the clusters with the highest fraction of points that have an NAS delay. These clusters are likely to have the NAS delay cause by weather. We then select clusters in descending order until we have 55% of the data points selected. These are the NAS delays that we accept as caused by weather.\n",
    "\n",
    "Overfitting/Underfitting: We have devised two solutions to ensuring that our model will generalize well. Firstly, we have broken the model into two parts: first a classification problem, and then a regression problem. By breaking the problem into two parts we help resolve the issue of zero-inflated data set. Secondly, we can throw out some examples of no weather delay in the classification model, to ensure that we do not overfit to the data.Lastly, we sampled our data randomly from each month of the year 2018, to ensure we have a sample with weather representative of all parts of the year. Because there is such a high volume of flights daily, we have a very large amount of data available to us, so expanding training and test set sizes is always feasible, providing another way to ensure the model generalizes well.\n"
   ]
  }
 ],
 "metadata": {
  "kernelspec": {
   "display_name": "Python 3",
   "language": "python",
   "name": "python3"
  },
  "language_info": {
   "codemirror_mode": {
    "name": "ipython",
    "version": 3
   },
   "file_extension": ".py",
   "mimetype": "text/x-python",
   "name": "python",
   "nbconvert_exporter": "python",
   "pygments_lexer": "ipython3",
   "version": "3.6.8"
  }
 },
 "nbformat": 4,
 "nbformat_minor": 2
}
