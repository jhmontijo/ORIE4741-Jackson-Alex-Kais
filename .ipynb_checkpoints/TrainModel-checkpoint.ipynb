{
 "cells": [
  {
   "cell_type": "code",
   "execution_count": 2,
   "metadata": {
    "collapsed": false
   },
   "outputs": [
    {
     "ename": "ArgumentError",
     "evalue": "ArgumentError: \"Yclass_train.csv\" is not a valid file",
     "output_type": "error",
     "traceback": [
      "ArgumentError: \"Yclass_train.csv\" is not a valid file",
      "",
      "Stacktrace:",
      " [1] checkvalidsource at C:\\Users\\alexa\\.julia\\packages\\CSV\\t5ipc\\src\\CSV.jl:95 [inlined]",
      " [2] file(::String, ::Int64, ::Bool, ::Int64, ::Nothing, ::Int64, ::Int64, ::Bool, ::Nothing, ::Bool, ::Bool, ::Array{String,1}, ::String, ::Nothing, ::Bool, ::Char, ::Nothing, ::Nothing, ::Char, ::Nothing, ::UInt8, ::Nothing, ::Nothing, ::Nothing, ::Nothing, ::Dict{Int8,Int8}, ::Bool, ::Float64, ::Bool, ::Bool, ::Nothing, ::Bool, ::Bool, ::Nothing) at C:\\Users\\alexa\\.julia\\packages\\CSV\\t5ipc\\src\\CSV.jl:247",
      " [3] Type at C:\\Users\\alexa\\.julia\\packages\\CSV\\t5ipc\\src\\CSV.jl:197 [inlined]",
      " [4] #read#61 at C:\\Users\\alexa\\.julia\\packages\\CSV\\t5ipc\\src\\CSV.jl:830 [inlined]",
      " [5] read(::String) at C:\\Users\\alexa\\.julia\\packages\\CSV\\t5ipc\\src\\CSV.jl:830",
      " [6] top-level scope at In[2]:13"
     ]
    }
   ],
   "source": [
    "using CSV\n",
    "using Plots\n",
    "using DataFrames\n",
    "using Statistics\n",
    "using Random, LinearAlgebra, SparseArrays\n",
    "include(\"proxgrad.jl\")\n",
    "\n",
    "\n",
    "X = CSV.read(\"X.csv\")\n",
    "X = select!(X,Not(:Column1))\n",
    "n = nrow(X)\n",
    "X = convert(Matrix, X)\n",
    "\n",
    "Yclass_train = CSV.read(\"Yclass_train.csv\")\n",
    "Yclass_train = select!(Yclass_train,Not(:Column1))\n",
    "Yclass_train = convert(Matrix, Yclass_train)\n",
    "\n",
    "ybool = Int.(sign.(Yclass_train)) # form a boolean target\n",
    "ybool = reshape(ybool, 1)\n",
    "loss = 1/n*HingeLoss()\n",
    "λ = .1\n",
    "reg = λ*QuadReg()\n",
    "w = proxgrad(loss, reg, X, ybool, maxiters=10) \n",
    "\n",
    "(n - sum(sign.(X*w) .== ybool)) / n\n",
    "ybool"
   ]
  },
  {
   "cell_type": "code",
   "execution_count": 49,
   "metadata": {
    "collapsed": false
   },
   "outputs": [
    {
     "data": {
      "text/plain": [
       "0.07239578295773286"
      ]
     },
     "execution_count": 49,
     "metadata": {},
     "output_type": "execute_result"
    }
   ],
   "source": [
    "train = CSV.read(\"Clustered_train.csv\")\n",
    "X = select!(train,Not(:Column1))\n",
    "n = nrow(X)\n",
    "X = X[:, 4:66]\n",
    "X = convert(Matrix, X)\n",
    "ybool = Int.(sign.(train[:, 68]))\n",
    "ybool[ybool .== 0 ] .= -1\n",
    "\n",
    "loss = 1/n*HingeLoss()\n",
    "λ = 0.1\n",
    "reg = λ*QuadReg()\n",
    "w = proxgrad(loss, reg, X, ybool, maxiters=10) \n",
    "\n",
    "(n - sum(sign.(X*w) .== ybool))/n"
   ]
  },
  {
   "cell_type": "code",
   "execution_count": 51,
   "metadata": {
    "collapsed": false
   },
   "outputs": [
    {
     "data": {
      "text/plain": [
       "82712×63 Array{Float64,2}:\n",
       " 0.0  0.0   0.0  0.0  63.0   75.0  51.0  …  0.0  0.0  0.0  0.0  0.0  0.0  0.0\n",
       " 0.0  0.0   0.0  0.0  63.0   75.0  51.0     0.0  0.0  0.0  0.0  0.0  0.0  0.0\n",
       " 0.0  0.0   0.0  0.0  63.0   75.0  51.0     0.0  0.0  0.0  0.0  0.0  0.0  0.0\n",
       " 0.0  0.0   0.0  0.0  63.0   75.0  51.0     1.0  0.0  0.0  0.0  0.0  0.0  0.0\n",
       " 0.0  0.0   0.0  0.0  57.0   65.0  51.0     1.0  0.0  0.0  0.0  0.0  0.0  0.0\n",
       " 0.0  0.0   0.0  0.0  57.0   65.0  51.0  …  0.0  1.0  0.0  0.0  0.0  0.0  0.0\n",
       " 0.0  0.0   0.0  0.0  57.0   65.0  51.0     0.0  0.0  0.0  0.0  0.0  0.0  0.0\n",
       " 0.0  0.0   0.0  0.0  57.0   65.0  51.0     1.0  0.0  0.0  0.0  0.0  0.0  0.0\n",
       " 0.0  0.0   0.0  0.0  57.0   65.0  51.0     1.0  0.0  0.0  0.0  0.0  0.0  0.0\n",
       " 0.0  0.11  0.0  0.0  64.0   71.0  50.0     0.0  0.0  1.0  0.0  0.0  0.0  0.0\n",
       " 0.0  0.11  0.0  0.0  64.0   71.0  50.0  …  0.0  0.0  0.0  0.0  0.0  0.0  0.0\n",
       " 0.0  0.11  0.0  0.0  64.0   71.0  50.0     1.0  0.0  0.0  0.0  0.0  0.0  0.0\n",
       " 0.0  0.11  0.0  0.0  64.0   71.0  50.0     0.0  0.0  0.0  1.0  0.0  0.0  0.0\n",
       " ⋮                            ⋮          ⋱                      ⋮            \n",
       " 0.0  0.0   0.0  0.0  70.0   77.0  67.0  …  0.0  0.0  0.0  0.0  0.0  0.0  0.0\n",
       " 0.0  0.03  0.0  0.0  80.0   88.0  72.0     0.0  0.0  0.0  0.0  0.0  0.0  0.0\n",
       " 0.0  0.03  0.0  0.0  80.0   88.0  72.0     0.0  0.0  0.0  0.0  0.0  0.0  0.0\n",
       " 0.0  0.03  0.0  0.0  80.0   88.0  72.0     1.0  0.0  0.0  0.0  0.0  0.0  0.0\n",
       " 0.0  0.03  0.0  0.0  80.0   88.0  72.0     0.0  0.0  0.0  0.0  0.0  0.0  0.0\n",
       " 0.0  0.03  0.0  0.0  80.0   88.0  72.0  …  0.0  0.0  0.0  0.0  0.0  1.0  0.0\n",
       " 0.0  0.03  0.0  0.0  72.0   78.0  69.0     0.0  0.0  0.0  0.0  0.0  0.0  0.0\n",
       " 0.0  0.03  0.0  0.0  72.0   78.0  69.0     0.0  0.0  0.0  0.0  0.0  0.0  0.0\n",
       " 0.0  1.25  0.0  0.0  60.0   65.0  56.0     0.0  0.0  1.0  0.0  0.0  0.0  0.0\n",
       " 0.0  1.25  0.0  0.0  60.0   65.0  56.0     0.0  0.0  0.0  0.0  0.0  0.0  0.0\n",
       " 0.0  1.25  0.0  0.0  60.0   65.0  56.0  …  0.0  0.0  0.0  0.0  0.0  0.0  0.0\n",
       " 0.0  0.0   0.0  0.0  92.0  104.0  79.0     0.0  0.0  0.0  0.0  0.0  0.0  0.0"
      ]
     },
     "execution_count": 51,
     "metadata": {},
     "output_type": "execute_result"
    }
   ],
   "source": []
  },
  {
   "cell_type": "code",
   "execution_count": 6,
   "metadata": {
    "collapsed": false
   },
   "outputs": [
    {
     "data": {
      "text/html": [
       "<table class=\"data-frame\"><thead><tr><th></th><th>DEP_TIME^2</th><th>DEP_TIME^3</th><th>DEP_TIME</th><th>PGTM_x</th><th>PRCP_x</th><th>SNOW_x</th><th>SNWD_x</th><th>TAVG_x</th><th>TMAX_x</th></tr><tr><th></th><th>Float64</th><th>Float64</th><th>Float64</th><th>Float64</th><th>Float64</th><th>Float64</th><th>Float64</th><th>Float64</th><th>Float64</th></tr></thead><tbody><p>82,712 rows × 68 columns (omitted printing of 59 columns)</p><tr><th>1</th><td>2.30432e6</td><td>3.49796e9</td><td>1518.0</td><td>0.0</td><td>0.0</td><td>0.0</td><td>0.0</td><td>63.0</td><td>75.0</td></tr><tr><th>2</th><td>1.22988e6</td><td>1.36394e9</td><td>1109.0</td><td>0.0</td><td>0.0</td><td>0.0</td><td>0.0</td><td>63.0</td><td>75.0</td></tr><tr><th>3</th><td>311364.0</td><td>1.73741e8</td><td>558.0</td><td>0.0</td><td>0.0</td><td>0.0</td><td>0.0</td><td>63.0</td><td>75.0</td></tr><tr><th>4</th><td>549081.0</td><td>4.06869e8</td><td>741.0</td><td>0.0</td><td>0.0</td><td>0.0</td><td>0.0</td><td>63.0</td><td>75.0</td></tr><tr><th>5</th><td>1.73186e6</td><td>2.27912e9</td><td>1316.0</td><td>0.0</td><td>0.0</td><td>0.0</td><td>0.0</td><td>57.0</td><td>65.0</td></tr><tr><th>6</th><td>2601.0</td><td>132651.0</td><td>51.0</td><td>0.0</td><td>0.0</td><td>0.0</td><td>0.0</td><td>57.0</td><td>65.0</td></tr><tr><th>7</th><td>3.08705e6</td><td>5.42395e9</td><td>1757.0</td><td>0.0</td><td>0.0</td><td>0.0</td><td>0.0</td><td>57.0</td><td>65.0</td></tr><tr><th>8</th><td>3.08354e6</td><td>5.41469e9</td><td>1756.0</td><td>0.0</td><td>0.0</td><td>0.0</td><td>0.0</td><td>57.0</td><td>65.0</td></tr><tr><th>9</th><td>310249.0</td><td>1.72809e8</td><td>557.0</td><td>0.0</td><td>0.0</td><td>0.0</td><td>0.0</td><td>57.0</td><td>65.0</td></tr><tr><th>10</th><td>815409.0</td><td>7.36314e8</td><td>903.0</td><td>0.0</td><td>0.11</td><td>0.0</td><td>0.0</td><td>64.0</td><td>71.0</td></tr><tr><th>11</th><td>1.09412e6</td><td>1.14445e9</td><td>1046.0</td><td>0.0</td><td>0.11</td><td>0.0</td><td>0.0</td><td>64.0</td><td>71.0</td></tr><tr><th>12</th><td>4.02805e6</td><td>8.08429e9</td><td>2007.0</td><td>0.0</td><td>0.11</td><td>0.0</td><td>0.0</td><td>64.0</td><td>71.0</td></tr><tr><th>13</th><td>3.37824e6</td><td>6.20921e9</td><td>1838.0</td><td>0.0</td><td>0.11</td><td>0.0</td><td>0.0</td><td>64.0</td><td>71.0</td></tr><tr><th>14</th><td>2.6569e6</td><td>4.33075e9</td><td>1630.0</td><td>0.0</td><td>0.11</td><td>0.0</td><td>0.0</td><td>64.0</td><td>71.0</td></tr><tr><th>15</th><td>2.43048e6</td><td>3.78912e9</td><td>1559.0</td><td>0.0</td><td>0.0</td><td>0.0</td><td>0.0</td><td>58.0</td><td>64.0</td></tr><tr><th>16</th><td>1.83603e6</td><td>2.48781e9</td><td>1355.0</td><td>0.0</td><td>0.0</td><td>0.0</td><td>0.0</td><td>58.0</td><td>64.0</td></tr><tr><th>17</th><td>2209.0</td><td>103823.0</td><td>47.0</td><td>0.0</td><td>0.0</td><td>0.0</td><td>0.0</td><td>58.0</td><td>64.0</td></tr><tr><th>18</th><td>1.9656e6</td><td>2.75578e9</td><td>1402.0</td><td>0.0</td><td>0.0</td><td>0.0</td><td>0.0</td><td>58.0</td><td>64.0</td></tr><tr><th>19</th><td>4.9284e6</td><td>1.0941e10</td><td>2220.0</td><td>0.0</td><td>0.0</td><td>0.0</td><td>0.0</td><td>58.0</td><td>64.0</td></tr><tr><th>20</th><td>822649.0</td><td>7.46143e8</td><td>907.0</td><td>0.0</td><td>0.0</td><td>0.0</td><td>0.0</td><td>81.0</td><td>93.0</td></tr><tr><th>21</th><td>423801.0</td><td>2.75894e8</td><td>651.0</td><td>0.0</td><td>0.0</td><td>0.0</td><td>0.0</td><td>81.0</td><td>93.0</td></tr><tr><th>22</th><td>304704.0</td><td>1.68197e8</td><td>552.0</td><td>0.0</td><td>0.0</td><td>0.0</td><td>0.0</td><td>81.0</td><td>93.0</td></tr><tr><th>23</th><td>3.78303e6</td><td>7.35798e9</td><td>1945.0</td><td>0.0</td><td>0.0</td><td>0.0</td><td>0.0</td><td>81.0</td><td>93.0</td></tr><tr><th>24</th><td>4.55823e6</td><td>9.73181e9</td><td>2135.0</td><td>0.0</td><td>0.0</td><td>0.0</td><td>0.0</td><td>81.0</td><td>93.0</td></tr><tr><th>25</th><td>1.53264e6</td><td>1.89741e9</td><td>1238.0</td><td>0.0</td><td>0.0</td><td>0.0</td><td>0.0</td><td>61.0</td><td>68.0</td></tr><tr><th>26</th><td>853776.0</td><td>7.88889e8</td><td>924.0</td><td>0.0</td><td>0.0</td><td>0.0</td><td>0.0</td><td>61.0</td><td>68.0</td></tr><tr><th>27</th><td>692224.0</td><td>5.7593e8</td><td>832.0</td><td>0.0</td><td>0.0</td><td>0.0</td><td>0.0</td><td>61.0</td><td>68.0</td></tr><tr><th>28</th><td>669124.0</td><td>5.47343e8</td><td>818.0</td><td>0.0</td><td>0.0</td><td>0.0</td><td>0.0</td><td>61.0</td><td>68.0</td></tr><tr><th>29</th><td>1.99092e6</td><td>2.80919e9</td><td>1411.0</td><td>0.0</td><td>0.0</td><td>0.0</td><td>0.0</td><td>63.0</td><td>75.0</td></tr><tr><th>30</th><td>2.61469e6</td><td>4.22795e9</td><td>1617.0</td><td>0.0</td><td>0.0</td><td>0.0</td><td>0.0</td><td>63.0</td><td>75.0</td></tr><tr><th>&vellip;</th><td>&vellip;</td><td>&vellip;</td><td>&vellip;</td><td>&vellip;</td><td>&vellip;</td><td>&vellip;</td><td>&vellip;</td><td>&vellip;</td><td>&vellip;</td></tr></tbody></table>"
      ],
      "text/latex": [
       "\\begin{tabular}{r|cccccccccc}\n",
       "\t& DEP\\_TIME\\^2 & DEP\\_TIME\\^3 & DEP\\_TIME & PGTM\\_x & PRCP\\_x & SNOW\\_x & SNWD\\_x & TAVG\\_x & TMAX\\_x & \\\\\n",
       "\t\\hline\n",
       "\t& Float64 & Float64 & Float64 & Float64 & Float64 & Float64 & Float64 & Float64 & Float64 & \\\\\n",
       "\t\\hline\n",
       "\t1 & 2.30432e6 & 3.49796e9 & 1518.0 & 0.0 & 0.0 & 0.0 & 0.0 & 63.0 & 75.0 & $\\dots$ \\\\\n",
       "\t2 & 1.22988e6 & 1.36394e9 & 1109.0 & 0.0 & 0.0 & 0.0 & 0.0 & 63.0 & 75.0 & $\\dots$ \\\\\n",
       "\t3 & 311364.0 & 1.73741e8 & 558.0 & 0.0 & 0.0 & 0.0 & 0.0 & 63.0 & 75.0 & $\\dots$ \\\\\n",
       "\t4 & 549081.0 & 4.06869e8 & 741.0 & 0.0 & 0.0 & 0.0 & 0.0 & 63.0 & 75.0 & $\\dots$ \\\\\n",
       "\t5 & 1.73186e6 & 2.27912e9 & 1316.0 & 0.0 & 0.0 & 0.0 & 0.0 & 57.0 & 65.0 & $\\dots$ \\\\\n",
       "\t6 & 2601.0 & 132651.0 & 51.0 & 0.0 & 0.0 & 0.0 & 0.0 & 57.0 & 65.0 & $\\dots$ \\\\\n",
       "\t7 & 3.08705e6 & 5.42395e9 & 1757.0 & 0.0 & 0.0 & 0.0 & 0.0 & 57.0 & 65.0 & $\\dots$ \\\\\n",
       "\t8 & 3.08354e6 & 5.41469e9 & 1756.0 & 0.0 & 0.0 & 0.0 & 0.0 & 57.0 & 65.0 & $\\dots$ \\\\\n",
       "\t9 & 310249.0 & 1.72809e8 & 557.0 & 0.0 & 0.0 & 0.0 & 0.0 & 57.0 & 65.0 & $\\dots$ \\\\\n",
       "\t10 & 815409.0 & 7.36314e8 & 903.0 & 0.0 & 0.11 & 0.0 & 0.0 & 64.0 & 71.0 & $\\dots$ \\\\\n",
       "\t11 & 1.09412e6 & 1.14445e9 & 1046.0 & 0.0 & 0.11 & 0.0 & 0.0 & 64.0 & 71.0 & $\\dots$ \\\\\n",
       "\t12 & 4.02805e6 & 8.08429e9 & 2007.0 & 0.0 & 0.11 & 0.0 & 0.0 & 64.0 & 71.0 & $\\dots$ \\\\\n",
       "\t13 & 3.37824e6 & 6.20921e9 & 1838.0 & 0.0 & 0.11 & 0.0 & 0.0 & 64.0 & 71.0 & $\\dots$ \\\\\n",
       "\t14 & 2.6569e6 & 4.33075e9 & 1630.0 & 0.0 & 0.11 & 0.0 & 0.0 & 64.0 & 71.0 & $\\dots$ \\\\\n",
       "\t15 & 2.43048e6 & 3.78912e9 & 1559.0 & 0.0 & 0.0 & 0.0 & 0.0 & 58.0 & 64.0 & $\\dots$ \\\\\n",
       "\t16 & 1.83603e6 & 2.48781e9 & 1355.0 & 0.0 & 0.0 & 0.0 & 0.0 & 58.0 & 64.0 & $\\dots$ \\\\\n",
       "\t17 & 2209.0 & 103823.0 & 47.0 & 0.0 & 0.0 & 0.0 & 0.0 & 58.0 & 64.0 & $\\dots$ \\\\\n",
       "\t18 & 1.9656e6 & 2.75578e9 & 1402.0 & 0.0 & 0.0 & 0.0 & 0.0 & 58.0 & 64.0 & $\\dots$ \\\\\n",
       "\t19 & 4.9284e6 & 1.0941e10 & 2220.0 & 0.0 & 0.0 & 0.0 & 0.0 & 58.0 & 64.0 & $\\dots$ \\\\\n",
       "\t20 & 822649.0 & 7.46143e8 & 907.0 & 0.0 & 0.0 & 0.0 & 0.0 & 81.0 & 93.0 & $\\dots$ \\\\\n",
       "\t21 & 423801.0 & 2.75894e8 & 651.0 & 0.0 & 0.0 & 0.0 & 0.0 & 81.0 & 93.0 & $\\dots$ \\\\\n",
       "\t22 & 304704.0 & 1.68197e8 & 552.0 & 0.0 & 0.0 & 0.0 & 0.0 & 81.0 & 93.0 & $\\dots$ \\\\\n",
       "\t23 & 3.78303e6 & 7.35798e9 & 1945.0 & 0.0 & 0.0 & 0.0 & 0.0 & 81.0 & 93.0 & $\\dots$ \\\\\n",
       "\t24 & 4.55823e6 & 9.73181e9 & 2135.0 & 0.0 & 0.0 & 0.0 & 0.0 & 81.0 & 93.0 & $\\dots$ \\\\\n",
       "\t25 & 1.53264e6 & 1.89741e9 & 1238.0 & 0.0 & 0.0 & 0.0 & 0.0 & 61.0 & 68.0 & $\\dots$ \\\\\n",
       "\t26 & 853776.0 & 7.88889e8 & 924.0 & 0.0 & 0.0 & 0.0 & 0.0 & 61.0 & 68.0 & $\\dots$ \\\\\n",
       "\t27 & 692224.0 & 5.7593e8 & 832.0 & 0.0 & 0.0 & 0.0 & 0.0 & 61.0 & 68.0 & $\\dots$ \\\\\n",
       "\t28 & 669124.0 & 5.47343e8 & 818.0 & 0.0 & 0.0 & 0.0 & 0.0 & 61.0 & 68.0 & $\\dots$ \\\\\n",
       "\t29 & 1.99092e6 & 2.80919e9 & 1411.0 & 0.0 & 0.0 & 0.0 & 0.0 & 63.0 & 75.0 & $\\dots$ \\\\\n",
       "\t30 & 2.61469e6 & 4.22795e9 & 1617.0 & 0.0 & 0.0 & 0.0 & 0.0 & 63.0 & 75.0 & $\\dots$ \\\\\n",
       "\t$\\dots$ & $\\dots$ & $\\dots$ & $\\dots$ & $\\dots$ & $\\dots$ & $\\dots$ & $\\dots$ & $\\dots$ & $\\dots$ &  \\\\\n",
       "\\end{tabular}\n"
      ],
      "text/plain": [
       "82712×68 DataFrame. Omitted printing of 62 columns\n",
       "│ Row   │ DEP_TIME^2 │ DEP_TIME^3 │ DEP_TIME │ PGTM_x  │ PRCP_x  │ SNOW_x  │\n",
       "│       │ \u001b[90mFloat64\u001b[39m    │ \u001b[90mFloat64\u001b[39m    │ \u001b[90mFloat64\u001b[39m  │ \u001b[90mFloat64\u001b[39m │ \u001b[90mFloat64\u001b[39m │ \u001b[90mFloat64\u001b[39m │\n",
       "├───────┼────────────┼────────────┼──────────┼─────────┼─────────┼─────────┤\n",
       "│ 1     │ 2.30432e6  │ 3.49796e9  │ 1518.0   │ 0.0     │ 0.0     │ 0.0     │\n",
       "│ 2     │ 1.22988e6  │ 1.36394e9  │ 1109.0   │ 0.0     │ 0.0     │ 0.0     │\n",
       "│ 3     │ 311364.0   │ 1.73741e8  │ 558.0    │ 0.0     │ 0.0     │ 0.0     │\n",
       "│ 4     │ 549081.0   │ 4.06869e8  │ 741.0    │ 0.0     │ 0.0     │ 0.0     │\n",
       "│ 5     │ 1.73186e6  │ 2.27912e9  │ 1316.0   │ 0.0     │ 0.0     │ 0.0     │\n",
       "│ 6     │ 2601.0     │ 132651.0   │ 51.0     │ 0.0     │ 0.0     │ 0.0     │\n",
       "│ 7     │ 3.08705e6  │ 5.42395e9  │ 1757.0   │ 0.0     │ 0.0     │ 0.0     │\n",
       "│ 8     │ 3.08354e6  │ 5.41469e9  │ 1756.0   │ 0.0     │ 0.0     │ 0.0     │\n",
       "│ 9     │ 310249.0   │ 1.72809e8  │ 557.0    │ 0.0     │ 0.0     │ 0.0     │\n",
       "│ 10    │ 815409.0   │ 7.36314e8  │ 903.0    │ 0.0     │ 0.11    │ 0.0     │\n",
       "⋮\n",
       "│ 82702 │ 898704.0   │ 8.51971e8  │ 948.0    │ 0.0     │ 0.03    │ 0.0     │\n",
       "│ 82703 │ 4.54969e6  │ 9.70449e9  │ 2133.0   │ 0.0     │ 0.03    │ 0.0     │\n",
       "│ 82704 │ 3.36723e6  │ 6.17886e9  │ 1835.0   │ 0.0     │ 0.03    │ 0.0     │\n",
       "│ 82705 │ 502681.0   │ 3.56401e8  │ 709.0    │ 0.0     │ 0.03    │ 0.0     │\n",
       "│ 82706 │ 4.96844e6  │ 1.10747e10 │ 2229.0   │ 0.0     │ 0.03    │ 0.0     │\n",
       "│ 82707 │ 504100.0   │ 3.57911e8  │ 710.0    │ 0.0     │ 0.03    │ 0.0     │\n",
       "│ 82708 │ 2.71261e6  │ 4.46767e9  │ 1647.0   │ 0.0     │ 0.03    │ 0.0     │\n",
       "│ 82709 │ 537289.0   │ 3.93833e8  │ 733.0    │ 0.0     │ 1.25    │ 0.0     │\n",
       "│ 82710 │ 2.94123e6  │ 5.0442e9   │ 1715.0   │ 0.0     │ 1.25    │ 0.0     │\n",
       "│ 82711 │ 4.50713e6  │ 9.56863e9  │ 2123.0   │ 0.0     │ 1.25    │ 0.0     │\n",
       "│ 82712 │ 5.53661e6  │ 1.30276e10 │ 2353.0   │ 0.0     │ 0.0     │ 0.0     │"
      ]
     },
     "execution_count": 6,
     "metadata": {},
     "output_type": "execute_result"
    }
   ],
   "source": [
    "train"
   ]
  },
  {
   "cell_type": "code",
   "execution_count": null,
   "metadata": {
    "collapsed": true
   },
   "outputs": [],
   "source": [
    "\"\"\"This function just computes the mean squared error.\"\"\"\n",
    "function MSE(y, pred)\n",
    "    mean((y .- pred).^2)\n",
    "end\n",
    "\n",
    "\"\"\"This function plots the main diagonal; \n",
    "for a \"predicted vs true\" plot with perfect predictions,\n",
    "all data lies on this line\"\"\"\n",
    "function plotDiagonal(xmin, xmax)\n",
    "    xsamples = [xmin, xmax]\n",
    "    plot!(xsamples, xsamples, color=:black)\n",
    "end\n",
    "\n",
    "\"\"\"This helper funciton plots x vs, y and labels the axes.\"\"\"\n",
    "function plotdata(x,y,xname, yname; margin=.05, plotDiag=true, zeromin=false)\n",
    "    scatter(x,y, label=\"data\")\n",
    "    xlabel!(xname)\n",
    "    ylabel!(yname)\n",
    "    range_y = maximum(y) - minimum(y)\n",
    "    range_x = maximum(x) - minimum(x)\n",
    "    if plotDiag\n",
    "        plotDiagonal(minimum(x)-margin*range_x, maximum(x)+margin*range_x)\n",
    "    end\n",
    "    if zeromin\n",
    "        ylims!((0.0,maximum(y)+margin*range_y))\n",
    "        xlims!((0.0,maximum(x)+margin*range_x))\n",
    "    else\n",
    "        ylims!((minimum(y)-margin*range_y,maximum(y)+margin*range_y))\n",
    "        xlims!((minimum(x)-margin*range_x,maximum(x)+margin*range_x))\n",
    "    end\n",
    "end\n",
    "\n",
    "\"\"\"This function plots the predicted labels vs the actual labels\n",
    "(We only plots the first 1000 points to avoid slow plots.)\"\"\"\n",
    "function plot_pred_true(test_pred, test_y, max_points = 300)\n",
    "    plotdata(test_pred[1:max_points], test_y[1:max_points], \"Predicted (\\$)\", \"True (\\$)\", zeromin=true)\n",
    "end"
   ]
  },
  {
   "cell_type": "code",
   "execution_count": null,
   "metadata": {
    "collapsed": true
   },
   "outputs": [],
   "source": [
    "test = CSV.read(\"Clustered_test.csv\")"
   ]
  },
  {
   "cell_type": "code",
   "execution_count": 27,
   "metadata": {
    "collapsed": false
   },
   "outputs": [
    {
     "data": {
      "text/plain": [
       "50-element Array{Float64,1}:\n",
       " -5.385634056969853  \n",
       "  6.648090116980303  \n",
       "  0.8068740596335412 \n",
       " -1.5195064392192563 \n",
       "  5.216880723409659  \n",
       " -6.023593940701897  \n",
       "  3.3982233613839927 \n",
       " -0.9121009804738791 \n",
       "  0.3651219364915964 \n",
       "  1.344722359511159  \n",
       "  4.841970150063742  \n",
       "  1.5010644299659528 \n",
       "  0.8167902921170364 \n",
       "  ⋮                  \n",
       " -6.326750793501784  \n",
       " -0.773993767195665  \n",
       " -0.736574137292652  \n",
       "  5.691217352567019  \n",
       "  2.3594283508015548 \n",
       " -2.487204434510467  \n",
       "  0.2628076129423721 \n",
       " -0.13544933936116765\n",
       " -0.11634691310888103\n",
       " -0.36904237864802236\n",
       "  4.526547086643624  \n",
       " -1.2374293081364325 "
      ]
     },
     "execution_count": 27,
     "metadata": {},
     "output_type": "execute_result"
    }
   ],
   "source": [
    "Random.seed!(0)\n",
    "n = 50\n",
    "d = 10\n",
    "X = randn(n,d)\n",
    "w♮ = randn(d)\n",
    "y = X*w♮ + .1*randn(n);\n",
    "\n",
    "y"
   ]
  },
  {
   "cell_type": "code",
   "execution_count": null,
   "metadata": {
    "collapsed": true
   },
   "outputs": [],
   "source": [
    "ybool = Int.(sign.(Yclass_train)) # form a boolean target\n",
    "loss = 1/n*HingeLoss()\n",
    "λ = .1\n",
    "reg = λ*QuadReg()\n",
    "w = proxgrad(loss, reg, X, ybool, maxiters=10) \n",
    "\n",
    "\n",
    "(n - sum(sign.(X*w) .== ybool)) / n"
   ]
  }
 ],
 "metadata": {
  "anaconda-cloud": {},
  "kernelspec": {
   "display_name": "Julia 1.2.0",
   "language": "julia",
   "name": "julia-1.2"
  },
  "language_info": {
   "file_extension": ".jl",
   "mimetype": "application/julia",
   "name": "julia",
   "version": "1.2.0"
  }
 },
 "nbformat": 4,
 "nbformat_minor": 2
}
