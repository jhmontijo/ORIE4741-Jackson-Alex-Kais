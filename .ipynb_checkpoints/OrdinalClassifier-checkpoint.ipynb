{
 "cells": [
  {
   "cell_type": "code",
   "execution_count": 213,
   "metadata": {
    "scrolled": true
   },
   "outputs": [],
   "source": [
    "import pandas as pd\n",
    "import numpy as np\n",
    "import matplotlib.pyplot as plt\n",
    "\n",
    "from sklearn.ensemble import RandomForestClassifier\n",
    "from sklearn.naive_bayes import GaussianNB\n",
    "from sklearn import linear_model\n",
    "from sklearn import metrics\n",
    "from sklearn.linear_model import SGDClassifier"
   ]
  },
  {
   "cell_type": "code",
   "execution_count": 181,
   "metadata": {},
   "outputs": [],
   "source": [
    "# Load and format data\n",
    "X_train = pd.read_csv(\"X_train.csv\")\n",
    "X_test = pd.read_csv('X_test.csv')\n",
    "Y_train = pd.read_csv('Y_train.csv')\n",
    "Y_test = pd.read_csv('Y_test.csv')\n",
    "del Y_train['Unnamed: 0'], Y_test['Unnamed: 0'], X_train['Unnamed: 0'], X_train['Unnamed: 0.1'], X_test['Unnamed: 0'], X_test['Unnamed: 0.1'], X_train['ORIGIN_y'], X_test['ORIGIN_y'], X_train['FL_DATE'], X_test['FL_DATE']"
   ]
  },
  {
   "cell_type": "code",
   "execution_count": 182,
   "metadata": {
    "scrolled": true
   },
   "outputs": [],
   "source": [
    "# Create ordinal classification for delays in train set\n",
    "X_train['Y'] = Y_train.Delay\n",
    "X_train = X_train[X_train['Y'] > 3]\n",
    "Y_train = X_train['Y']\n",
    "X_train.drop(\"Y\", axis=1, inplace=True)\n",
    "Y_train = Y_train[Y_train > 3]\n",
    "Y_train.loc[Y_train > 45] = 3\n",
    "Y_train.loc[Y_train > 15] = 2\n",
    "Y_train.loc[Y_train > 3] = 1"
   ]
  },
  {
   "cell_type": "code",
   "execution_count": 183,
   "metadata": {},
   "outputs": [],
   "source": [
    "# Create ordinal classification for delays in test set\n",
    "X_test['Y'] = Y_test.Delay\n",
    "X_test = X_test[X_test['Y'] > 3]\n",
    "Y_test = X_test['Y']\n",
    "X_test.drop(\"Y\", axis=1, inplace=True)\n",
    "Y_test = Y_test[Y_test > 3]\n",
    "Y_test.loc[Y_test > 45] = 3\n",
    "Y_test.loc[Y_test > 15] = 2\n",
    "Y_test.loc[Y_test > 3] = 1"
   ]
  },
  {
   "cell_type": "code",
   "execution_count": 212,
   "metadata": {
    "scrolled": true
   },
   "outputs": [
    {
     "name": "stdout",
     "output_type": "stream",
     "text": [
      "             precision    recall  f1-score   support\n",
      "\n",
      "          1       0.40      0.04      0.07        52\n",
      "          2       0.58      0.75      0.65       107\n",
      "          3       0.36      0.51      0.43        39\n",
      "\n",
      "avg / total       0.49      0.52      0.46       198\n",
      "\n"
     ]
    }
   ],
   "source": [
    "# Fit ordinal classification model\n",
    "matrix = [[0,0,0], [0,0,0], [0,0,0]]\n",
    "pred = np.zeros(208)\n",
    "n = 1\n",
    "for i in range(n):\n",
    "    clf2 = linear_model.SGDClassifier(loss = 'hinge', penalty = 'l1', alpha = 0.001, n_iter = 100)\n",
    "    clf2.fit(X_train, Y_train.values.ravel())\n",
    "    pred =clf2.predict(X_test)\n",
    "    print(metrics.classification_report(Y_test, pred))\n",
    "    #print(metrics.auc(Y_test, pred2))"
   ]
  }
 ],
 "metadata": {
  "anaconda-cloud": {},
  "kernelspec": {
   "display_name": "Python 3",
   "language": "python",
   "name": "python3"
  },
  "language_info": {
   "codemirror_mode": {
    "name": "ipython",
    "version": 3
   },
   "file_extension": ".py",
   "mimetype": "text/x-python",
   "name": "python",
   "nbconvert_exporter": "python",
   "pygments_lexer": "ipython3",
   "version": "3.6.8"
  }
 },
 "nbformat": 4,
 "nbformat_minor": 2
}
